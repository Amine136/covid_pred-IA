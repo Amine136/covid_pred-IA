{
 "cells": [
  {
   "cell_type": "code",
   "execution_count": 1,
   "id": "3f97ebf0",
   "metadata": {},
   "outputs": [],
   "source": [
    "import numpy as np\n",
    "import pandas as pd\n",
    "import matplotlib.pyplot as plt\n",
    "import seaborn as sns"
   ]
  },
  {
   "cell_type": "code",
   "execution_count": 2,
   "id": "d00c3617",
   "metadata": {},
   "outputs": [],
   "source": [
    "pd.set_option('display.max_row', 111)\n",
    "pd.set_option('display.max_column', 111)\n",
    "data = pd.read_excel('dataset.xlsx')"
   ]
  },
  {
   "cell_type": "code",
   "execution_count": 3,
   "id": "a83d5d7d",
   "metadata": {},
   "outputs": [],
   "source": [
    "df = data.copy()"
   ]
  },
  {
   "cell_type": "code",
   "execution_count": 4,
   "id": "cedd0329",
   "metadata": {},
   "outputs": [],
   "source": [
    "missing_rate = df.isna().sum()/df.shape[0]"
   ]
  },
  {
   "cell_type": "code",
   "execution_count": 5,
   "id": "821dace9",
   "metadata": {},
   "outputs": [],
   "source": [
    "blood_columns = list(df.columns[(missing_rate<0.9)&(missing_rate>0.88)])\n",
    "viral_columns = list(df.columns[(missing_rate < 0.80)&(missing_rate > 0.75)])"
   ]
  },
  {
   "cell_type": "code",
   "execution_count": 6,
   "id": "11d5e526",
   "metadata": {},
   "outputs": [],
   "source": [
    "key_columns = ['Patient age quantile','SARS-Cov-2 exam result']"
   ]
  },
  {
   "cell_type": "code",
   "execution_count": 7,
   "id": "fd2147df",
   "metadata": {},
   "outputs": [],
   "source": [
    "df = df[key_columns + blood_columns + viral_columns]#"
   ]
  },
  {
   "cell_type": "code",
   "execution_count": 8,
   "id": "9fd1bd27",
   "metadata": {},
   "outputs": [
    {
     "data": {
      "text/plain": [
       "(5644, 33)"
      ]
     },
     "execution_count": 8,
     "metadata": {},
     "output_type": "execute_result"
    }
   ],
   "source": [
    "df.shape"
   ]
  },
  {
   "cell_type": "code",
   "execution_count": null,
   "id": "e24d5c17",
   "metadata": {},
   "outputs": [],
   "source": []
  },
  {
   "cell_type": "markdown",
   "id": "74681c50",
   "metadata": {},
   "source": [
    "# Train_Test & Nettoyage & Encodage\n"
   ]
  },
  {
   "cell_type": "code",
   "execution_count": 9,
   "id": "96ce4be6",
   "metadata": {},
   "outputs": [],
   "source": [
    "from  sklearn.model_selection import train_test_split"
   ]
  },
  {
   "cell_type": "code",
   "execution_count": 10,
   "id": "d8a0bc4f",
   "metadata": {},
   "outputs": [],
   "source": [
    "trainset , testset = train_test_split(df, test_size=0.2, random_state=0)"
   ]
  },
  {
   "cell_type": "code",
   "execution_count": 11,
   "id": "7b2a7cc7",
   "metadata": {},
   "outputs": [
    {
     "data": {
      "text/plain": [
       "(4515, 33)"
      ]
     },
     "execution_count": 11,
     "metadata": {},
     "output_type": "execute_result"
    }
   ],
   "source": [
    "trainset.shape"
   ]
  },
  {
   "cell_type": "code",
   "execution_count": 12,
   "id": "5209274d",
   "metadata": {},
   "outputs": [],
   "source": [
    "def encodage(df):\n",
    "    code = {'negative':0,\n",
    "            'positive':1,\n",
    "            'not_detected':0,\n",
    "            'detected':1}\n",
    "    \n",
    "    for col in df.select_dtypes('object').columns:\n",
    "        df.loc[:,col] = df[col].map(code)\n",
    "        \n",
    "    return df"
   ]
  },
  {
   "cell_type": "code",
   "execution_count": 13,
   "id": "9ab3c41a",
   "metadata": {},
   "outputs": [],
   "source": [
    "def feature_engineering(df):\n",
    "    df['est malade'] = df[viral_columns].sum(axis=1) >= 1\n",
    "    df = df.drop(viral_columns, axis=1)\n",
    "    return df"
   ]
  },
  {
   "cell_type": "code",
   "execution_count": 14,
   "id": "bcd322a0",
   "metadata": {},
   "outputs": [],
   "source": [
    "def imputation(df):\n",
    "    #df['is na'] = (df['Parainfluenza 3'].isna()) | (df['Leukocytes'].isna())\n",
    "    #df = df.fillna(-999)\n",
    "    df = df.dropna(axis=0)\n",
    "    return  df"
   ]
  },
  {
   "cell_type": "code",
   "execution_count": 15,
   "id": "0a2e4811",
   "metadata": {},
   "outputs": [],
   "source": [
    "def preprocessing(df):\n",
    "    \n",
    "    df = encodage(df)\n",
    "    df = feature_engineering(df)\n",
    "    df = imputation(df)\n",
    "    \n",
    "    X = df.drop('SARS-Cov-2 exam result', axis=1)\n",
    "    y = df['SARS-Cov-2 exam result']\n",
    "    \n",
    "    print(y.value_counts())\n",
    "    \n",
    "    return X, y"
   ]
  },
  {
   "cell_type": "code",
   "execution_count": 16,
   "id": "1fa7c9f9",
   "metadata": {},
   "outputs": [
    {
     "name": "stdout",
     "output_type": "stream",
     "text": [
      "0    422\n",
      "1     65\n",
      "Name: SARS-Cov-2 exam result, dtype: int64\n",
      "0    95\n",
      "1    16\n",
      "Name: SARS-Cov-2 exam result, dtype: int64\n"
     ]
    }
   ],
   "source": [
    "X_train, y_train= preprocessing(trainset) \n",
    "X_test, y_test = preprocessing(testset) "
   ]
  },
  {
   "cell_type": "code",
   "execution_count": 21,
   "id": "a9b21d94",
   "metadata": {},
   "outputs": [
    {
     "data": {
      "text/plain": [
       "543     0\n",
       "203     0\n",
       "1624    1\n",
       "500     0\n",
       "34      0\n",
       "       ..\n",
       "3299    0\n",
       "5251    0\n",
       "1071    0\n",
       "4484    0\n",
       "2008    0\n",
       "Name: SARS-Cov-2 exam result, Length: 487, dtype: int64"
      ]
     },
     "execution_count": 21,
     "metadata": {},
     "output_type": "execute_result"
    }
   ],
   "source": [
    "y_train"
   ]
  },
  {
   "cell_type": "code",
   "execution_count": 18,
   "id": "b00ee9de",
   "metadata": {},
   "outputs": [],
   "source": [
    "DatasetTrain = pd.concat([X_train, y_train], axis=1)\n",
    "DatasetTest = pd.concat([X_test, y_test], axis=1)"
   ]
  },
  {
   "cell_type": "code",
   "execution_count": 19,
   "id": "77125cb8",
   "metadata": {},
   "outputs": [],
   "source": [
    "# Écrivez les données dans un fichier Excel\n",
    "DatasetTrain.to_excel('DatasetTrain.xlsx', index=False)"
   ]
  },
  {
   "cell_type": "code",
   "execution_count": 20,
   "id": "bcfd3db1",
   "metadata": {},
   "outputs": [],
   "source": [
    "# Écrivez les données dans un fichier Excel\n",
    "DatasetTest.to_excel('DatasetTest.xlsx', index=False)"
   ]
  }
 ],
 "metadata": {
  "kernelspec": {
   "display_name": "Python 3 (ipykernel)",
   "language": "python",
   "name": "python3"
  },
  "language_info": {
   "codemirror_mode": {
    "name": "ipython",
    "version": 3
   },
   "file_extension": ".py",
   "mimetype": "text/x-python",
   "name": "python",
   "nbconvert_exporter": "python",
   "pygments_lexer": "ipython3",
   "version": "3.9.13"
  }
 },
 "nbformat": 4,
 "nbformat_minor": 5
}
