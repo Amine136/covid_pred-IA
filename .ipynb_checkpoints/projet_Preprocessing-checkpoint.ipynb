{
 "cells": [
  {
   "cell_type": "code",
   "execution_count": 1,
   "id": "3f97ebf0",
   "metadata": {},
   "outputs": [],
   "source": [
    "import numpy as np\n",
    "import pandas as pd\n",
    "import matplotlib.pyplot as plt\n",
    "import seaborn as sns"
   ]
  },
  {
   "cell_type": "code",
   "execution_count": 2,
   "id": "d00c3617",
   "metadata": {},
   "outputs": [],
   "source": [
    "pd.set_option('display.max_row', 111)\n",
    "pd.set_option('display.max_column', 111)\n",
    "data = pd.read_excel('dataset.xlsx')"
   ]
  },
  {
   "cell_type": "code",
   "execution_count": 3,
   "id": "a83d5d7d",
   "metadata": {},
   "outputs": [],
   "source": [
    "df = data.copy()"
   ]
  },
  {
   "cell_type": "code",
   "execution_count": 4,
   "id": "cedd0329",
   "metadata": {},
   "outputs": [],
   "source": [
    "missing_rate = df.isna().sum()/df.shape[0]"
   ]
  },
  {
   "cell_type": "code",
   "execution_count": 5,
   "id": "821dace9",
   "metadata": {},
   "outputs": [],
   "source": [
    "blood_columns = list(df.columns[(missing_rate<0.9)&(missing_rate>0.88)])\n",
    "viral_columns = list(df.columns[(missing_rate < 0.80)&(missing_rate > 0.75)])"
   ]
  },
  {
   "cell_type": "code",
   "execution_count": 6,
   "id": "11d5e526",
   "metadata": {},
   "outputs": [],
   "source": [
    "key_columns = ['Patient age quantile','SARS-Cov-2 exam result']"
   ]
  },
  {
   "cell_type": "code",
   "execution_count": 7,
   "id": "fd2147df",
   "metadata": {},
   "outputs": [],
   "source": [
    "df = df[key_columns + blood_columns + viral_columns]#"
   ]
  },
  {
   "cell_type": "code",
   "execution_count": 8,
   "id": "9fd1bd27",
   "metadata": {},
   "outputs": [
    {
     "data": {
      "text/plain": [
       "(5644, 33)"
      ]
     },
     "execution_count": 8,
     "metadata": {},
     "output_type": "execute_result"
    }
   ],
   "source": [
    "df.shape"
   ]
  },
  {
   "cell_type": "code",
   "execution_count": null,
   "id": "e24d5c17",
   "metadata": {},
   "outputs": [],
   "source": []
  },
  {
   "cell_type": "markdown",
   "id": "74681c50",
   "metadata": {},
   "source": [
    "# Train_Test & Nettoyage & Encodage\n"
   ]
  },
  {
   "cell_type": "code",
   "execution_count": 9,
   "id": "96ce4be6",
   "metadata": {},
   "outputs": [],
   "source": [
    "from  sklearn.model_selection import train_test_split"
   ]
  },
  {
   "cell_type": "code",
   "execution_count": 10,
   "id": "d8a0bc4f",
   "metadata": {},
   "outputs": [],
   "source": [
    "trainset , testset = train_test_split(df, test_size=0.2, random_state=0)"
   ]
  },
  {
   "cell_type": "code",
   "execution_count": 11,
   "id": "7b2a7cc7",
   "metadata": {},
   "outputs": [
    {
     "data": {
      "text/plain": [
       "(4515, 33)"
      ]
     },
     "execution_count": 11,
     "metadata": {},
     "output_type": "execute_result"
    }
   ],
   "source": [
    "trainset.shape"
   ]
  },
  {
   "cell_type": "code",
   "execution_count": 12,
   "id": "5209274d",
   "metadata": {},
   "outputs": [],
   "source": [
    "def encodage(df):\n",
    "    code = {'negative':0,\n",
    "            'positive':1,\n",
    "            'not_detected':0,\n",
    "            'detected':1}\n",
    "    \n",
    "    for col in df.select_dtypes('object').columns:\n",
    "        df.loc[:,col] = df[col].map(code)\n",
    "        \n",
    "    return df"
   ]
  },
  {
   "cell_type": "code",
   "execution_count": 13,
   "id": "9ab3c41a",
   "metadata": {},
   "outputs": [],
   "source": [
    "def feature_engineering(df):\n",
    "    df['est malade'] = df[viral_columns].sum(axis=1) >= 1\n",
    "    df = df.drop(viral_columns, axis=1)\n",
    "    return df"
   ]
  },
  {
   "cell_type": "code",
   "execution_count": 14,
   "id": "bcd322a0",
   "metadata": {},
   "outputs": [],
   "source": [
    "def imputation(df):\n",
    "    #df['is na'] = (df['Parainfluenza 3'].isna()) | (df['Leukocytes'].isna())\n",
    "    #df = df.fillna(-999)\n",
    "    df = df.dropna(axis=0)\n",
    "    return  df"
   ]
  },
  {
   "cell_type": "code",
   "execution_count": 15,
   "id": "0a2e4811",
   "metadata": {},
   "outputs": [],
   "source": [
    "def preprocessing(df):\n",
    "    \n",
    "    df = encodage(df)\n",
    "    df = feature_engineering(df)\n",
    "    df = imputation(df)\n",
    "    \n",
    "    X = df.drop('SARS-Cov-2 exam result', axis=1)\n",
    "    y = df['SARS-Cov-2 exam result']\n",
    "    \n",
    "    print(y.value_counts())\n",
    "    \n",
    "    return X, y"
   ]
  },
  {
   "cell_type": "code",
   "execution_count": 16,
   "id": "1fa7c9f9",
   "metadata": {},
   "outputs": [
    {
     "name": "stdout",
     "output_type": "stream",
     "text": [
      "0    422\n",
      "1     65\n",
      "Name: SARS-Cov-2 exam result, dtype: int64\n",
      "0    95\n",
      "1    16\n",
      "Name: SARS-Cov-2 exam result, dtype: int64\n"
     ]
    }
   ],
   "source": [
    "X_train, y_train= preprocessing(trainset) \n",
    "X_test, y_test = preprocessing(testset) "
   ]
  },
  {
   "cell_type": "code",
   "execution_count": 17,
   "id": "a9b21d94",
   "metadata": {},
   "outputs": [
    {
     "data": {
      "text/html": [
       "<div>\n",
       "<style scoped>\n",
       "    .dataframe tbody tr th:only-of-type {\n",
       "        vertical-align: middle;\n",
       "    }\n",
       "\n",
       "    .dataframe tbody tr th {\n",
       "        vertical-align: top;\n",
       "    }\n",
       "\n",
       "    .dataframe thead th {\n",
       "        text-align: right;\n",
       "    }\n",
       "</style>\n",
       "<table border=\"1\" class=\"dataframe\">\n",
       "  <thead>\n",
       "    <tr style=\"text-align: right;\">\n",
       "      <th></th>\n",
       "      <th>Patient age quantile</th>\n",
       "      <th>Hematocrit</th>\n",
       "      <th>Hemoglobin</th>\n",
       "      <th>Platelets</th>\n",
       "      <th>Mean platelet volume</th>\n",
       "      <th>Red blood Cells</th>\n",
       "      <th>Lymphocytes</th>\n",
       "      <th>Mean corpuscular hemoglobin concentration (MCHC)</th>\n",
       "      <th>Leukocytes</th>\n",
       "      <th>Basophils</th>\n",
       "      <th>Mean corpuscular hemoglobin (MCH)</th>\n",
       "      <th>Eosinophils</th>\n",
       "      <th>Mean corpuscular volume (MCV)</th>\n",
       "      <th>Monocytes</th>\n",
       "      <th>Red blood cell distribution width (RDW)</th>\n",
       "      <th>est malade</th>\n",
       "    </tr>\n",
       "  </thead>\n",
       "  <tbody>\n",
       "    <tr>\n",
       "      <th>543</th>\n",
       "      <td>18</td>\n",
       "      <td>1.358055</td>\n",
       "      <td>1.356092</td>\n",
       "      <td>-0.228491</td>\n",
       "      <td>-0.438097</td>\n",
       "      <td>1.142196</td>\n",
       "      <td>-0.517481</td>\n",
       "      <td>0.244149</td>\n",
       "      <td>0.275501</td>\n",
       "      <td>-0.223767</td>\n",
       "      <td>0.178175</td>\n",
       "      <td>-0.793368</td>\n",
       "      <td>0.066045</td>\n",
       "      <td>0.987864</td>\n",
       "      <td>-0.005877</td>\n",
       "      <td>False</td>\n",
       "    </tr>\n",
       "    <tr>\n",
       "      <th>203</th>\n",
       "      <td>9</td>\n",
       "      <td>1.174947</td>\n",
       "      <td>0.854844</td>\n",
       "      <td>-1.019885</td>\n",
       "      <td>-1.784415</td>\n",
       "      <td>0.824849</td>\n",
       "      <td>-0.193377</td>\n",
       "      <td>-0.851210</td>\n",
       "      <td>-0.317234</td>\n",
       "      <td>-0.223767</td>\n",
       "      <td>-0.083183</td>\n",
       "      <td>1.608576</td>\n",
       "      <td>0.366488</td>\n",
       "      <td>0.042388</td>\n",
       "      <td>-0.448160</td>\n",
       "      <td>True</td>\n",
       "    </tr>\n",
       "    <tr>\n",
       "      <th>1624</th>\n",
       "      <td>10</td>\n",
       "      <td>1.037616</td>\n",
       "      <td>1.481403</td>\n",
       "      <td>-1.823841</td>\n",
       "      <td>0.347255</td>\n",
       "      <td>1.142196</td>\n",
       "      <td>0.966573</td>\n",
       "      <td>1.837398</td>\n",
       "      <td>-1.135374</td>\n",
       "      <td>-0.223767</td>\n",
       "      <td>0.387261</td>\n",
       "      <td>-0.835508</td>\n",
       "      <td>-0.454724</td>\n",
       "      <td>-0.377823</td>\n",
       "      <td>-0.978899</td>\n",
       "      <td>False</td>\n",
       "    </tr>\n",
       "    <tr>\n",
       "      <th>500</th>\n",
       "      <td>6</td>\n",
       "      <td>-0.038148</td>\n",
       "      <td>0.165628</td>\n",
       "      <td>0.914633</td>\n",
       "      <td>0.122869</td>\n",
       "      <td>-0.515058</td>\n",
       "      <td>1.316264</td>\n",
       "      <td>0.841616</td>\n",
       "      <td>0.044529</td>\n",
       "      <td>0.998070</td>\n",
       "      <td>1.275878</td>\n",
       "      <td>0.133698</td>\n",
       "      <td>1.007433</td>\n",
       "      <td>-0.456613</td>\n",
       "      <td>-0.801985</td>\n",
       "      <td>False</td>\n",
       "    </tr>\n",
       "    <tr>\n",
       "      <th>34</th>\n",
       "      <td>17</td>\n",
       "      <td>0.808730</td>\n",
       "      <td>1.042812</td>\n",
       "      <td>-0.278739</td>\n",
       "      <td>1.581381</td>\n",
       "      <td>0.701437</td>\n",
       "      <td>-0.261609</td>\n",
       "      <td>1.040773</td>\n",
       "      <td>0.000005</td>\n",
       "      <td>0.387152</td>\n",
       "      <td>0.439533</td>\n",
       "      <td>0.049419</td>\n",
       "      <td>-0.014074</td>\n",
       "      <td>-0.509139</td>\n",
       "      <td>-0.094334</td>\n",
       "      <td>True</td>\n",
       "    </tr>\n",
       "    <tr>\n",
       "      <th>...</th>\n",
       "      <td>...</td>\n",
       "      <td>...</td>\n",
       "      <td>...</td>\n",
       "      <td>...</td>\n",
       "      <td>...</td>\n",
       "      <td>...</td>\n",
       "      <td>...</td>\n",
       "      <td>...</td>\n",
       "      <td>...</td>\n",
       "      <td>...</td>\n",
       "      <td>...</td>\n",
       "      <td>...</td>\n",
       "      <td>...</td>\n",
       "      <td>...</td>\n",
       "      <td>...</td>\n",
       "      <td>...</td>\n",
       "    </tr>\n",
       "    <tr>\n",
       "      <th>3299</th>\n",
       "      <td>19</td>\n",
       "      <td>0.785841</td>\n",
       "      <td>0.666876</td>\n",
       "      <td>1.366858</td>\n",
       "      <td>1.693575</td>\n",
       "      <td>0.119635</td>\n",
       "      <td>2.638266</td>\n",
       "      <td>-0.253742</td>\n",
       "      <td>1.486016</td>\n",
       "      <td>0.081693</td>\n",
       "      <td>0.909977</td>\n",
       "      <td>0.133698</td>\n",
       "      <td>1.147641</td>\n",
       "      <td>-1.008140</td>\n",
       "      <td>-0.801985</td>\n",
       "      <td>False</td>\n",
       "    </tr>\n",
       "    <tr>\n",
       "      <th>5251</th>\n",
       "      <td>0</td>\n",
       "      <td>-2.533002</td>\n",
       "      <td>-2.465924</td>\n",
       "      <td>3.037579</td>\n",
       "      <td>-0.774677</td>\n",
       "      <td>-2.348615</td>\n",
       "      <td>3.167067</td>\n",
       "      <td>-0.452899</td>\n",
       "      <td>1.764295</td>\n",
       "      <td>-1.140144</td>\n",
       "      <td>-0.030911</td>\n",
       "      <td>-0.835508</td>\n",
       "      <td>0.206251</td>\n",
       "      <td>-1.008140</td>\n",
       "      <td>-0.005877</td>\n",
       "      <td>True</td>\n",
       "    </tr>\n",
       "    <tr>\n",
       "      <th>1071</th>\n",
       "      <td>4</td>\n",
       "      <td>0.694287</td>\n",
       "      <td>0.729532</td>\n",
       "      <td>-0.140559</td>\n",
       "      <td>-1.447836</td>\n",
       "      <td>0.419350</td>\n",
       "      <td>1.145683</td>\n",
       "      <td>0.343725</td>\n",
       "      <td>-0.553771</td>\n",
       "      <td>1.914447</td>\n",
       "      <td>0.439533</td>\n",
       "      <td>0.217977</td>\n",
       "      <td>0.346459</td>\n",
       "      <td>1.303022</td>\n",
       "      <td>-0.713529</td>\n",
       "      <td>True</td>\n",
       "    </tr>\n",
       "    <tr>\n",
       "      <th>4484</th>\n",
       "      <td>4</td>\n",
       "      <td>1.541164</td>\n",
       "      <td>1.669372</td>\n",
       "      <td>1.090499</td>\n",
       "      <td>-0.213711</td>\n",
       "      <td>1.829779</td>\n",
       "      <td>-1.182746</td>\n",
       "      <td>0.742040</td>\n",
       "      <td>1.792123</td>\n",
       "      <td>-1.140144</td>\n",
       "      <td>-0.396813</td>\n",
       "      <td>-0.835508</td>\n",
       "      <td>-0.835285</td>\n",
       "      <td>0.042388</td>\n",
       "      <td>0.878687</td>\n",
       "      <td>True</td>\n",
       "    </tr>\n",
       "    <tr>\n",
       "      <th>2008</th>\n",
       "      <td>9</td>\n",
       "      <td>0.236515</td>\n",
       "      <td>0.165628</td>\n",
       "      <td>1.015128</td>\n",
       "      <td>-0.213711</td>\n",
       "      <td>-0.462168</td>\n",
       "      <td>1.077451</td>\n",
       "      <td>-0.154166</td>\n",
       "      <td>-0.356193</td>\n",
       "      <td>0.692611</td>\n",
       "      <td>1.171335</td>\n",
       "      <td>0.302256</td>\n",
       "      <td>1.428053</td>\n",
       "      <td>0.094915</td>\n",
       "      <td>-0.448160</td>\n",
       "      <td>False</td>\n",
       "    </tr>\n",
       "  </tbody>\n",
       "</table>\n",
       "<p>487 rows × 16 columns</p>\n",
       "</div>"
      ],
      "text/plain": [
       "      Patient age quantile  Hematocrit  Hemoglobin  Platelets  \\\n",
       "543                     18    1.358055    1.356092  -0.228491   \n",
       "203                      9    1.174947    0.854844  -1.019885   \n",
       "1624                    10    1.037616    1.481403  -1.823841   \n",
       "500                      6   -0.038148    0.165628   0.914633   \n",
       "34                      17    0.808730    1.042812  -0.278739   \n",
       "...                    ...         ...         ...        ...   \n",
       "3299                    19    0.785841    0.666876   1.366858   \n",
       "5251                     0   -2.533002   -2.465924   3.037579   \n",
       "1071                     4    0.694287    0.729532  -0.140559   \n",
       "4484                     4    1.541164    1.669372   1.090499   \n",
       "2008                     9    0.236515    0.165628   1.015128   \n",
       "\n",
       "      Mean platelet volume   Red blood Cells  Lymphocytes  \\\n",
       "543               -0.438097         1.142196    -0.517481   \n",
       "203               -1.784415         0.824849    -0.193377   \n",
       "1624               0.347255         1.142196     0.966573   \n",
       "500                0.122869        -0.515058     1.316264   \n",
       "34                 1.581381         0.701437    -0.261609   \n",
       "...                     ...              ...          ...   \n",
       "3299               1.693575         0.119635     2.638266   \n",
       "5251              -0.774677        -2.348615     3.167067   \n",
       "1071              -1.447836         0.419350     1.145683   \n",
       "4484              -0.213711         1.829779    -1.182746   \n",
       "2008              -0.213711        -0.462168     1.077451   \n",
       "\n",
       "      Mean corpuscular hemoglobin concentration (MCHC)  Leukocytes  Basophils  \\\n",
       "543                                           0.244149    0.275501  -0.223767   \n",
       "203                                          -0.851210   -0.317234  -0.223767   \n",
       "1624                                          1.837398   -1.135374  -0.223767   \n",
       "500                                           0.841616    0.044529   0.998070   \n",
       "34                                            1.040773    0.000005   0.387152   \n",
       "...                                                ...         ...        ...   \n",
       "3299                                         -0.253742    1.486016   0.081693   \n",
       "5251                                         -0.452899    1.764295  -1.140144   \n",
       "1071                                          0.343725   -0.553771   1.914447   \n",
       "4484                                          0.742040    1.792123  -1.140144   \n",
       "2008                                         -0.154166   -0.356193   0.692611   \n",
       "\n",
       "      Mean corpuscular hemoglobin (MCH)  Eosinophils  \\\n",
       "543                            0.178175    -0.793368   \n",
       "203                           -0.083183     1.608576   \n",
       "1624                           0.387261    -0.835508   \n",
       "500                            1.275878     0.133698   \n",
       "34                             0.439533     0.049419   \n",
       "...                                 ...          ...   \n",
       "3299                           0.909977     0.133698   \n",
       "5251                          -0.030911    -0.835508   \n",
       "1071                           0.439533     0.217977   \n",
       "4484                          -0.396813    -0.835508   \n",
       "2008                           1.171335     0.302256   \n",
       "\n",
       "      Mean corpuscular volume (MCV)  Monocytes  \\\n",
       "543                        0.066045   0.987864   \n",
       "203                        0.366488   0.042388   \n",
       "1624                      -0.454724  -0.377823   \n",
       "500                        1.007433  -0.456613   \n",
       "34                        -0.014074  -0.509139   \n",
       "...                             ...        ...   \n",
       "3299                       1.147641  -1.008140   \n",
       "5251                       0.206251  -1.008140   \n",
       "1071                       0.346459   1.303022   \n",
       "4484                      -0.835285   0.042388   \n",
       "2008                       1.428053   0.094915   \n",
       "\n",
       "      Red blood cell distribution width (RDW)  est malade  \n",
       "543                                 -0.005877       False  \n",
       "203                                 -0.448160        True  \n",
       "1624                                -0.978899       False  \n",
       "500                                 -0.801985       False  \n",
       "34                                  -0.094334        True  \n",
       "...                                       ...         ...  \n",
       "3299                                -0.801985       False  \n",
       "5251                                -0.005877        True  \n",
       "1071                                -0.713529        True  \n",
       "4484                                 0.878687        True  \n",
       "2008                                -0.448160       False  \n",
       "\n",
       "[487 rows x 16 columns]"
      ]
     },
     "execution_count": 17,
     "metadata": {},
     "output_type": "execute_result"
    }
   ],
   "source": [
    "X_train"
   ]
  },
  {
   "cell_type": "code",
   "execution_count": 18,
   "id": "b00ee9de",
   "metadata": {},
   "outputs": [],
   "source": [
    "DatasetTrain = pd.concat([X_train, y_train], axis=1)\n",
    "DatasetTest = pd.concat([X_test, y_test], axis=1)"
   ]
  },
  {
   "cell_type": "code",
   "execution_count": 19,
   "id": "77125cb8",
   "metadata": {},
   "outputs": [],
   "source": [
    "# Écrivez les données dans un fichier Excel\n",
    "DatasetTrain.to_excel('DatasetTrain.xlsx', index=False)"
   ]
  },
  {
   "cell_type": "code",
   "execution_count": 20,
   "id": "bcfd3db1",
   "metadata": {},
   "outputs": [],
   "source": [
    "# Écrivez les données dans un fichier Excel\n",
    "DatasetTest.to_excel('DatasetTest.xlsx', index=False)"
   ]
  }
 ],
 "metadata": {
  "kernelspec": {
   "display_name": "Python 3 (ipykernel)",
   "language": "python",
   "name": "python3"
  },
  "language_info": {
   "codemirror_mode": {
    "name": "ipython",
    "version": 3
   },
   "file_extension": ".py",
   "mimetype": "text/x-python",
   "name": "python",
   "nbconvert_exporter": "python",
   "pygments_lexer": "ipython3",
   "version": "3.9.13"
  }
 },
 "nbformat": 4,
 "nbformat_minor": 5
}
